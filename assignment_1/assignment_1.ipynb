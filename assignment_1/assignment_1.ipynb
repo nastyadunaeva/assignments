{
 "cells": [
  {
   "cell_type": "code",
   "execution_count": 1,
   "metadata": {},
   "outputs": [
    {
     "data": {
      "text/latex": [
       "$\\displaystyle \\dot{x} = \\sigma (y - x)$"
      ],
      "text/plain": [
       "<IPython.core.display.Math object>"
      ]
     },
     "metadata": {},
     "output_type": "display_data"
    },
    {
     "data": {
      "text/latex": [
       "$\\displaystyle \\dot{y} = x (r - z) - y$"
      ],
      "text/plain": [
       "<IPython.core.display.Math object>"
      ]
     },
     "metadata": {},
     "output_type": "display_data"
    },
    {
     "data": {
      "text/latex": [
       "$\\displaystyle \\dot{z} = xy - bz$"
      ],
      "text/plain": [
       "<IPython.core.display.Math object>"
      ]
     },
     "metadata": {},
     "output_type": "display_data"
    }
   ],
   "source": [
    "from IPython.display import display, Math, Latex\n",
    "display(Math(r'\\dot{x} = \\sigma (y - x)'))\n",
    "display(Math(r'\\dot{y} = x (r - z) - y'))\n",
    "display(Math(r'\\dot{z} = xy - bz'))"
   ]
  },
  {
   "cell_type": "code",
   "execution_count": 85,
   "metadata": {},
   "outputs": [
    {
     "data": {
      "text/latex": [
       "$\\displaystyle \\sigma = 10$"
      ],
      "text/plain": [
       "<IPython.core.display.Math object>"
      ]
     },
     "metadata": {},
     "output_type": "display_data"
    },
    {
     "data": {
      "text/latex": [
       "$\\displaystyle r = 28$"
      ],
      "text/plain": [
       "<IPython.core.display.Math object>"
      ]
     },
     "metadata": {},
     "output_type": "display_data"
    },
    {
     "data": {
      "text/latex": [
       "$\\displaystyle b = \\frac{8}{3}$"
      ],
      "text/plain": [
       "<IPython.core.display.Math object>"
      ]
     },
     "metadata": {},
     "output_type": "display_data"
    }
   ],
   "source": [
    "from scipy.integrate import solve_ivp\n",
    "sigma = 10\n",
    "r = 28\n",
    "b = 8/3\n",
    "display(Math(r'\\sigma = 10'))\n",
    "display(Math(r'r = 28'))\n",
    "display(Math(r'b = \\frac{8}{3}'))"
   ]
  },
  {
   "cell_type": "code",
   "execution_count": 65,
   "metadata": {},
   "outputs": [],
   "source": [
    "def fun(t, y):\n",
    "    return [sigma*(y[1]-y[0]), y[0]*(r-y[2])-y[1], y[0]*y[1]-b*y[2]]   "
   ]
  },
  {
   "cell_type": "code",
   "execution_count": 66,
   "metadata": {},
   "outputs": [],
   "source": [
    "res = solve_ivp(fun, (-50, 50), [10, 10, 10])"
   ]
  },
  {
   "cell_type": "code",
   "execution_count": 67,
   "metadata": {},
   "outputs": [],
   "source": [
    "from bokeh.plotting import figure, show\n",
    "from bokeh.io import output_notebook"
   ]
  },
  {
   "cell_type": "code",
   "execution_count": 68,
   "metadata": {},
   "outputs": [
    {
     "data": {
      "text/html": [
       "\n",
       "    <div class=\"bk-root\">\n",
       "        <a href=\"https://bokeh.pydata.org\" target=\"_blank\" class=\"bk-logo bk-logo-small bk-logo-notebook\"></a>\n",
       "        <span id=\"2072\">Loading BokehJS ...</span>\n",
       "    </div>"
      ]
     },
     "metadata": {},
     "output_type": "display_data"
    },
    {
     "data": {
      "application/javascript": [
       "\n",
       "(function(root) {\n",
       "  function now() {\n",
       "    return new Date();\n",
       "  }\n",
       "\n",
       "  var force = true;\n",
       "\n",
       "  if (typeof root._bokeh_onload_callbacks === \"undefined\" || force === true) {\n",
       "    root._bokeh_onload_callbacks = [];\n",
       "    root._bokeh_is_loading = undefined;\n",
       "  }\n",
       "\n",
       "  var JS_MIME_TYPE = 'application/javascript';\n",
       "  var HTML_MIME_TYPE = 'text/html';\n",
       "  var EXEC_MIME_TYPE = 'application/vnd.bokehjs_exec.v0+json';\n",
       "  var CLASS_NAME = 'output_bokeh rendered_html';\n",
       "\n",
       "  /**\n",
       "   * Render data to the DOM node\n",
       "   */\n",
       "  function render(props, node) {\n",
       "    var script = document.createElement(\"script\");\n",
       "    node.appendChild(script);\n",
       "  }\n",
       "\n",
       "  /**\n",
       "   * Handle when an output is cleared or removed\n",
       "   */\n",
       "  function handleClearOutput(event, handle) {\n",
       "    var cell = handle.cell;\n",
       "\n",
       "    var id = cell.output_area._bokeh_element_id;\n",
       "    var server_id = cell.output_area._bokeh_server_id;\n",
       "    // Clean up Bokeh references\n",
       "    if (id != null && id in Bokeh.index) {\n",
       "      Bokeh.index[id].model.document.clear();\n",
       "      delete Bokeh.index[id];\n",
       "    }\n",
       "\n",
       "    if (server_id !== undefined) {\n",
       "      // Clean up Bokeh references\n",
       "      var cmd = \"from bokeh.io.state import curstate; print(curstate().uuid_to_server['\" + server_id + \"'].get_sessions()[0].document.roots[0]._id)\";\n",
       "      cell.notebook.kernel.execute(cmd, {\n",
       "        iopub: {\n",
       "          output: function(msg) {\n",
       "            var id = msg.content.text.trim();\n",
       "            if (id in Bokeh.index) {\n",
       "              Bokeh.index[id].model.document.clear();\n",
       "              delete Bokeh.index[id];\n",
       "            }\n",
       "          }\n",
       "        }\n",
       "      });\n",
       "      // Destroy server and session\n",
       "      var cmd = \"import bokeh.io.notebook as ion; ion.destroy_server('\" + server_id + \"')\";\n",
       "      cell.notebook.kernel.execute(cmd);\n",
       "    }\n",
       "  }\n",
       "\n",
       "  /**\n",
       "   * Handle when a new output is added\n",
       "   */\n",
       "  function handleAddOutput(event, handle) {\n",
       "    var output_area = handle.output_area;\n",
       "    var output = handle.output;\n",
       "\n",
       "    // limit handleAddOutput to display_data with EXEC_MIME_TYPE content only\n",
       "    if ((output.output_type != \"display_data\") || (!output.data.hasOwnProperty(EXEC_MIME_TYPE))) {\n",
       "      return\n",
       "    }\n",
       "\n",
       "    var toinsert = output_area.element.find(\".\" + CLASS_NAME.split(' ')[0]);\n",
       "\n",
       "    if (output.metadata[EXEC_MIME_TYPE][\"id\"] !== undefined) {\n",
       "      toinsert[toinsert.length - 1].firstChild.textContent = output.data[JS_MIME_TYPE];\n",
       "      // store reference to embed id on output_area\n",
       "      output_area._bokeh_element_id = output.metadata[EXEC_MIME_TYPE][\"id\"];\n",
       "    }\n",
       "    if (output.metadata[EXEC_MIME_TYPE][\"server_id\"] !== undefined) {\n",
       "      var bk_div = document.createElement(\"div\");\n",
       "      bk_div.innerHTML = output.data[HTML_MIME_TYPE];\n",
       "      var script_attrs = bk_div.children[0].attributes;\n",
       "      for (var i = 0; i < script_attrs.length; i++) {\n",
       "        toinsert[toinsert.length - 1].firstChild.setAttribute(script_attrs[i].name, script_attrs[i].value);\n",
       "      }\n",
       "      // store reference to server id on output_area\n",
       "      output_area._bokeh_server_id = output.metadata[EXEC_MIME_TYPE][\"server_id\"];\n",
       "    }\n",
       "  }\n",
       "\n",
       "  function register_renderer(events, OutputArea) {\n",
       "\n",
       "    function append_mime(data, metadata, element) {\n",
       "      // create a DOM node to render to\n",
       "      var toinsert = this.create_output_subarea(\n",
       "        metadata,\n",
       "        CLASS_NAME,\n",
       "        EXEC_MIME_TYPE\n",
       "      );\n",
       "      this.keyboard_manager.register_events(toinsert);\n",
       "      // Render to node\n",
       "      var props = {data: data, metadata: metadata[EXEC_MIME_TYPE]};\n",
       "      render(props, toinsert[toinsert.length - 1]);\n",
       "      element.append(toinsert);\n",
       "      return toinsert\n",
       "    }\n",
       "\n",
       "    /* Handle when an output is cleared or removed */\n",
       "    events.on('clear_output.CodeCell', handleClearOutput);\n",
       "    events.on('delete.Cell', handleClearOutput);\n",
       "\n",
       "    /* Handle when a new output is added */\n",
       "    events.on('output_added.OutputArea', handleAddOutput);\n",
       "\n",
       "    /**\n",
       "     * Register the mime type and append_mime function with output_area\n",
       "     */\n",
       "    OutputArea.prototype.register_mime_type(EXEC_MIME_TYPE, append_mime, {\n",
       "      /* Is output safe? */\n",
       "      safe: true,\n",
       "      /* Index of renderer in `output_area.display_order` */\n",
       "      index: 0\n",
       "    });\n",
       "  }\n",
       "\n",
       "  // register the mime type if in Jupyter Notebook environment and previously unregistered\n",
       "  if (root.Jupyter !== undefined) {\n",
       "    var events = require('base/js/events');\n",
       "    var OutputArea = require('notebook/js/outputarea').OutputArea;\n",
       "\n",
       "    if (OutputArea.prototype.mime_types().indexOf(EXEC_MIME_TYPE) == -1) {\n",
       "      register_renderer(events, OutputArea);\n",
       "    }\n",
       "  }\n",
       "\n",
       "  \n",
       "  if (typeof (root._bokeh_timeout) === \"undefined\" || force === true) {\n",
       "    root._bokeh_timeout = Date.now() + 5000;\n",
       "    root._bokeh_failed_load = false;\n",
       "  }\n",
       "\n",
       "  var NB_LOAD_WARNING = {'data': {'text/html':\n",
       "     \"<div style='background-color: #fdd'>\\n\"+\n",
       "     \"<p>\\n\"+\n",
       "     \"BokehJS does not appear to have successfully loaded. If loading BokehJS from CDN, this \\n\"+\n",
       "     \"may be due to a slow or bad network connection. Possible fixes:\\n\"+\n",
       "     \"</p>\\n\"+\n",
       "     \"<ul>\\n\"+\n",
       "     \"<li>re-rerun `output_notebook()` to attempt to load from CDN again, or</li>\\n\"+\n",
       "     \"<li>use INLINE resources instead, as so:</li>\\n\"+\n",
       "     \"</ul>\\n\"+\n",
       "     \"<code>\\n\"+\n",
       "     \"from bokeh.resources import INLINE\\n\"+\n",
       "     \"output_notebook(resources=INLINE)\\n\"+\n",
       "     \"</code>\\n\"+\n",
       "     \"</div>\"}};\n",
       "\n",
       "  function display_loaded() {\n",
       "    var el = document.getElementById(\"2072\");\n",
       "    if (el != null) {\n",
       "      el.textContent = \"BokehJS is loading...\";\n",
       "    }\n",
       "    if (root.Bokeh !== undefined) {\n",
       "      if (el != null) {\n",
       "        el.textContent = \"BokehJS \" + root.Bokeh.version + \" successfully loaded.\";\n",
       "      }\n",
       "    } else if (Date.now() < root._bokeh_timeout) {\n",
       "      setTimeout(display_loaded, 100)\n",
       "    }\n",
       "  }\n",
       "\n",
       "\n",
       "  function run_callbacks() {\n",
       "    try {\n",
       "      root._bokeh_onload_callbacks.forEach(function(callback) {\n",
       "        if (callback != null)\n",
       "          callback();\n",
       "      });\n",
       "    } finally {\n",
       "      delete root._bokeh_onload_callbacks\n",
       "    }\n",
       "    console.debug(\"Bokeh: all callbacks have finished\");\n",
       "  }\n",
       "\n",
       "  function load_libs(css_urls, js_urls, callback) {\n",
       "    if (css_urls == null) css_urls = [];\n",
       "    if (js_urls == null) js_urls = [];\n",
       "\n",
       "    root._bokeh_onload_callbacks.push(callback);\n",
       "    if (root._bokeh_is_loading > 0) {\n",
       "      console.debug(\"Bokeh: BokehJS is being loaded, scheduling callback at\", now());\n",
       "      return null;\n",
       "    }\n",
       "    if (js_urls == null || js_urls.length === 0) {\n",
       "      run_callbacks();\n",
       "      return null;\n",
       "    }\n",
       "    console.debug(\"Bokeh: BokehJS not loaded, scheduling load and callback at\", now());\n",
       "    root._bokeh_is_loading = css_urls.length + js_urls.length;\n",
       "\n",
       "    function on_load() {\n",
       "      root._bokeh_is_loading--;\n",
       "      if (root._bokeh_is_loading === 0) {\n",
       "        console.debug(\"Bokeh: all BokehJS libraries/stylesheets loaded\");\n",
       "        run_callbacks()\n",
       "      }\n",
       "    }\n",
       "\n",
       "    function on_error() {\n",
       "      console.error(\"failed to load \" + url);\n",
       "    }\n",
       "\n",
       "    for (var i = 0; i < css_urls.length; i++) {\n",
       "      var url = css_urls[i];\n",
       "      const element = document.createElement(\"link\");\n",
       "      element.onload = on_load;\n",
       "      element.onerror = on_error;\n",
       "      element.rel = \"stylesheet\";\n",
       "      element.type = \"text/css\";\n",
       "      element.href = url;\n",
       "      console.debug(\"Bokeh: injecting link tag for BokehJS stylesheet: \", url);\n",
       "      document.body.appendChild(element);\n",
       "    }\n",
       "\n",
       "    for (var i = 0; i < js_urls.length; i++) {\n",
       "      var url = js_urls[i];\n",
       "      var element = document.createElement('script');\n",
       "      element.onload = on_load;\n",
       "      element.onerror = on_error;\n",
       "      element.async = false;\n",
       "      element.src = url;\n",
       "      console.debug(\"Bokeh: injecting script tag for BokehJS library: \", url);\n",
       "      document.head.appendChild(element);\n",
       "    }\n",
       "  };var element = document.getElementById(\"2072\");\n",
       "  if (element == null) {\n",
       "    console.error(\"Bokeh: ERROR: autoload.js configured with elementid '2072' but no matching script tag was found. \")\n",
       "    return false;\n",
       "  }\n",
       "\n",
       "  function inject_raw_css(css) {\n",
       "    const element = document.createElement(\"style\");\n",
       "    element.appendChild(document.createTextNode(css));\n",
       "    document.body.appendChild(element);\n",
       "  }\n",
       "\n",
       "  var js_urls = [\"https://cdn.pydata.org/bokeh/release/bokeh-1.2.0.min.js\", \"https://cdn.pydata.org/bokeh/release/bokeh-widgets-1.2.0.min.js\", \"https://cdn.pydata.org/bokeh/release/bokeh-tables-1.2.0.min.js\", \"https://cdn.pydata.org/bokeh/release/bokeh-gl-1.2.0.min.js\"];\n",
       "  var css_urls = [\"https://cdn.pydata.org/bokeh/release/bokeh-1.2.0.min.css\", \"https://cdn.pydata.org/bokeh/release/bokeh-widgets-1.2.0.min.css\", \"https://cdn.pydata.org/bokeh/release/bokeh-tables-1.2.0.min.css\"];\n",
       "\n",
       "  var inline_js = [\n",
       "    function(Bokeh) {\n",
       "      Bokeh.set_log_level(\"info\");\n",
       "    },\n",
       "    \n",
       "    function(Bokeh) {\n",
       "      \n",
       "    },\n",
       "    function(Bokeh) {} // ensure no trailing comma for IE\n",
       "  ];\n",
       "\n",
       "  function run_inline_js() {\n",
       "    \n",
       "    if ((root.Bokeh !== undefined) || (force === true)) {\n",
       "      for (var i = 0; i < inline_js.length; i++) {\n",
       "        inline_js[i].call(root, root.Bokeh);\n",
       "      }if (force === true) {\n",
       "        display_loaded();\n",
       "      }} else if (Date.now() < root._bokeh_timeout) {\n",
       "      setTimeout(run_inline_js, 100);\n",
       "    } else if (!root._bokeh_failed_load) {\n",
       "      console.log(\"Bokeh: BokehJS failed to load within specified timeout.\");\n",
       "      root._bokeh_failed_load = true;\n",
       "    } else if (force !== true) {\n",
       "      var cell = $(document.getElementById(\"2072\")).parents('.cell').data().cell;\n",
       "      cell.output_area.append_execute_result(NB_LOAD_WARNING)\n",
       "    }\n",
       "\n",
       "  }\n",
       "\n",
       "  if (root._bokeh_is_loading === 0) {\n",
       "    console.debug(\"Bokeh: BokehJS loaded, going straight to plotting\");\n",
       "    run_inline_js();\n",
       "  } else {\n",
       "    load_libs(css_urls, js_urls, function() {\n",
       "      console.debug(\"Bokeh: BokehJS plotting callback run at\", now());\n",
       "      run_inline_js();\n",
       "    });\n",
       "  }\n",
       "}(window));"
      ],
      "application/vnd.bokehjs_load.v0+json": "\n(function(root) {\n  function now() {\n    return new Date();\n  }\n\n  var force = true;\n\n  if (typeof root._bokeh_onload_callbacks === \"undefined\" || force === true) {\n    root._bokeh_onload_callbacks = [];\n    root._bokeh_is_loading = undefined;\n  }\n\n  \n\n  \n  if (typeof (root._bokeh_timeout) === \"undefined\" || force === true) {\n    root._bokeh_timeout = Date.now() + 5000;\n    root._bokeh_failed_load = false;\n  }\n\n  var NB_LOAD_WARNING = {'data': {'text/html':\n     \"<div style='background-color: #fdd'>\\n\"+\n     \"<p>\\n\"+\n     \"BokehJS does not appear to have successfully loaded. If loading BokehJS from CDN, this \\n\"+\n     \"may be due to a slow or bad network connection. Possible fixes:\\n\"+\n     \"</p>\\n\"+\n     \"<ul>\\n\"+\n     \"<li>re-rerun `output_notebook()` to attempt to load from CDN again, or</li>\\n\"+\n     \"<li>use INLINE resources instead, as so:</li>\\n\"+\n     \"</ul>\\n\"+\n     \"<code>\\n\"+\n     \"from bokeh.resources import INLINE\\n\"+\n     \"output_notebook(resources=INLINE)\\n\"+\n     \"</code>\\n\"+\n     \"</div>\"}};\n\n  function display_loaded() {\n    var el = document.getElementById(\"2072\");\n    if (el != null) {\n      el.textContent = \"BokehJS is loading...\";\n    }\n    if (root.Bokeh !== undefined) {\n      if (el != null) {\n        el.textContent = \"BokehJS \" + root.Bokeh.version + \" successfully loaded.\";\n      }\n    } else if (Date.now() < root._bokeh_timeout) {\n      setTimeout(display_loaded, 100)\n    }\n  }\n\n\n  function run_callbacks() {\n    try {\n      root._bokeh_onload_callbacks.forEach(function(callback) {\n        if (callback != null)\n          callback();\n      });\n    } finally {\n      delete root._bokeh_onload_callbacks\n    }\n    console.debug(\"Bokeh: all callbacks have finished\");\n  }\n\n  function load_libs(css_urls, js_urls, callback) {\n    if (css_urls == null) css_urls = [];\n    if (js_urls == null) js_urls = [];\n\n    root._bokeh_onload_callbacks.push(callback);\n    if (root._bokeh_is_loading > 0) {\n      console.debug(\"Bokeh: BokehJS is being loaded, scheduling callback at\", now());\n      return null;\n    }\n    if (js_urls == null || js_urls.length === 0) {\n      run_callbacks();\n      return null;\n    }\n    console.debug(\"Bokeh: BokehJS not loaded, scheduling load and callback at\", now());\n    root._bokeh_is_loading = css_urls.length + js_urls.length;\n\n    function on_load() {\n      root._bokeh_is_loading--;\n      if (root._bokeh_is_loading === 0) {\n        console.debug(\"Bokeh: all BokehJS libraries/stylesheets loaded\");\n        run_callbacks()\n      }\n    }\n\n    function on_error() {\n      console.error(\"failed to load \" + url);\n    }\n\n    for (var i = 0; i < css_urls.length; i++) {\n      var url = css_urls[i];\n      const element = document.createElement(\"link\");\n      element.onload = on_load;\n      element.onerror = on_error;\n      element.rel = \"stylesheet\";\n      element.type = \"text/css\";\n      element.href = url;\n      console.debug(\"Bokeh: injecting link tag for BokehJS stylesheet: \", url);\n      document.body.appendChild(element);\n    }\n\n    for (var i = 0; i < js_urls.length; i++) {\n      var url = js_urls[i];\n      var element = document.createElement('script');\n      element.onload = on_load;\n      element.onerror = on_error;\n      element.async = false;\n      element.src = url;\n      console.debug(\"Bokeh: injecting script tag for BokehJS library: \", url);\n      document.head.appendChild(element);\n    }\n  };var element = document.getElementById(\"2072\");\n  if (element == null) {\n    console.error(\"Bokeh: ERROR: autoload.js configured with elementid '2072' but no matching script tag was found. \")\n    return false;\n  }\n\n  function inject_raw_css(css) {\n    const element = document.createElement(\"style\");\n    element.appendChild(document.createTextNode(css));\n    document.body.appendChild(element);\n  }\n\n  var js_urls = [\"https://cdn.pydata.org/bokeh/release/bokeh-1.2.0.min.js\", \"https://cdn.pydata.org/bokeh/release/bokeh-widgets-1.2.0.min.js\", \"https://cdn.pydata.org/bokeh/release/bokeh-tables-1.2.0.min.js\", \"https://cdn.pydata.org/bokeh/release/bokeh-gl-1.2.0.min.js\"];\n  var css_urls = [\"https://cdn.pydata.org/bokeh/release/bokeh-1.2.0.min.css\", \"https://cdn.pydata.org/bokeh/release/bokeh-widgets-1.2.0.min.css\", \"https://cdn.pydata.org/bokeh/release/bokeh-tables-1.2.0.min.css\"];\n\n  var inline_js = [\n    function(Bokeh) {\n      Bokeh.set_log_level(\"info\");\n    },\n    \n    function(Bokeh) {\n      \n    },\n    function(Bokeh) {} // ensure no trailing comma for IE\n  ];\n\n  function run_inline_js() {\n    \n    if ((root.Bokeh !== undefined) || (force === true)) {\n      for (var i = 0; i < inline_js.length; i++) {\n        inline_js[i].call(root, root.Bokeh);\n      }if (force === true) {\n        display_loaded();\n      }} else if (Date.now() < root._bokeh_timeout) {\n      setTimeout(run_inline_js, 100);\n    } else if (!root._bokeh_failed_load) {\n      console.log(\"Bokeh: BokehJS failed to load within specified timeout.\");\n      root._bokeh_failed_load = true;\n    } else if (force !== true) {\n      var cell = $(document.getElementById(\"2072\")).parents('.cell').data().cell;\n      cell.output_area.append_execute_result(NB_LOAD_WARNING)\n    }\n\n  }\n\n  if (root._bokeh_is_loading === 0) {\n    console.debug(\"Bokeh: BokehJS loaded, going straight to plotting\");\n    run_inline_js();\n  } else {\n    load_libs(css_urls, js_urls, function() {\n      console.debug(\"Bokeh: BokehJS plotting callback run at\", now());\n      run_inline_js();\n    });\n  }\n}(window));"
     },
     "metadata": {},
     "output_type": "display_data"
    }
   ],
   "source": [
    "output_notebook()"
   ]
  },
  {
   "cell_type": "code",
   "execution_count": 79,
   "metadata": {},
   "outputs": [
    {
     "data": {
      "text/html": [
       "<div style=\"display: table;\"><div style=\"display: table-row;\"><div style=\"display: table-cell;\"><b title=\"bokeh.models.renderers.GlyphRenderer\">GlyphRenderer</b>(</div><div style=\"display: table-cell;\">id&nbsp;=&nbsp;'3499', <span id=\"3502\" style=\"cursor: pointer;\">&hellip;)</span></div></div><div class=\"3501\" style=\"display: none;\"><div style=\"display: table-cell;\"></div><div style=\"display: table-cell;\">data_source&nbsp;=&nbsp;ColumnDataSource(id='3496', ...),</div></div><div class=\"3501\" style=\"display: none;\"><div style=\"display: table-cell;\"></div><div style=\"display: table-cell;\">glyph&nbsp;=&nbsp;Circle(id='3497', ...),</div></div><div class=\"3501\" style=\"display: none;\"><div style=\"display: table-cell;\"></div><div style=\"display: table-cell;\">hover_glyph&nbsp;=&nbsp;None,</div></div><div class=\"3501\" style=\"display: none;\"><div style=\"display: table-cell;\"></div><div style=\"display: table-cell;\">js_event_callbacks&nbsp;=&nbsp;{},</div></div><div class=\"3501\" style=\"display: none;\"><div style=\"display: table-cell;\"></div><div style=\"display: table-cell;\">js_property_callbacks&nbsp;=&nbsp;{},</div></div><div class=\"3501\" style=\"display: none;\"><div style=\"display: table-cell;\"></div><div style=\"display: table-cell;\">level&nbsp;=&nbsp;'glyph',</div></div><div class=\"3501\" style=\"display: none;\"><div style=\"display: table-cell;\"></div><div style=\"display: table-cell;\">muted&nbsp;=&nbsp;False,</div></div><div class=\"3501\" style=\"display: none;\"><div style=\"display: table-cell;\"></div><div style=\"display: table-cell;\">muted_glyph&nbsp;=&nbsp;None,</div></div><div class=\"3501\" style=\"display: none;\"><div style=\"display: table-cell;\"></div><div style=\"display: table-cell;\">name&nbsp;=&nbsp;None,</div></div><div class=\"3501\" style=\"display: none;\"><div style=\"display: table-cell;\"></div><div style=\"display: table-cell;\">nonselection_glyph&nbsp;=&nbsp;Circle(id='3498', ...),</div></div><div class=\"3501\" style=\"display: none;\"><div style=\"display: table-cell;\"></div><div style=\"display: table-cell;\">selection_glyph&nbsp;=&nbsp;None,</div></div><div class=\"3501\" style=\"display: none;\"><div style=\"display: table-cell;\"></div><div style=\"display: table-cell;\">subscribed_events&nbsp;=&nbsp;[],</div></div><div class=\"3501\" style=\"display: none;\"><div style=\"display: table-cell;\"></div><div style=\"display: table-cell;\">tags&nbsp;=&nbsp;[],</div></div><div class=\"3501\" style=\"display: none;\"><div style=\"display: table-cell;\"></div><div style=\"display: table-cell;\">view&nbsp;=&nbsp;CDSView(id='3500', ...),</div></div><div class=\"3501\" style=\"display: none;\"><div style=\"display: table-cell;\"></div><div style=\"display: table-cell;\">visible&nbsp;=&nbsp;True,</div></div><div class=\"3501\" style=\"display: none;\"><div style=\"display: table-cell;\"></div><div style=\"display: table-cell;\">x_range_name&nbsp;=&nbsp;'default',</div></div><div class=\"3501\" style=\"display: none;\"><div style=\"display: table-cell;\"></div><div style=\"display: table-cell;\">y_range_name&nbsp;=&nbsp;'default')</div></div></div>\n",
       "<script>\n",
       "(function() {\n",
       "  var expanded = false;\n",
       "  var ellipsis = document.getElementById(\"3502\");\n",
       "  ellipsis.addEventListener(\"click\", function() {\n",
       "    var rows = document.getElementsByClassName(\"3501\");\n",
       "    for (var i = 0; i < rows.length; i++) {\n",
       "      var el = rows[i];\n",
       "      el.style.display = expanded ? \"none\" : \"table-row\";\n",
       "    }\n",
       "    ellipsis.innerHTML = expanded ? \"&hellip;)\" : \"&lsaquo;&lsaquo;&lsaquo;\";\n",
       "    expanded = !expanded;\n",
       "  });\n",
       "})();\n",
       "</script>\n"
      ],
      "text/plain": [
       "GlyphRenderer(id='3499', ...)"
      ]
     },
     "execution_count": 79,
     "metadata": {},
     "output_type": "execute_result"
    }
   ],
   "source": [
    "xy = figure()\n",
    "xy.circle(res.y[0], res.y[1])\n",
    "xz = figure()\n",
    "xz.circle(res.y[0], res.y[2])\n",
    "yz = figure()\n",
    "yz.circle(res.y[1], res.y[2])"
   ]
  },
  {
   "cell_type": "code",
   "execution_count": 80,
   "metadata": {},
   "outputs": [
    {
     "data": {
      "text/html": [
       "\n",
       "\n",
       "\n",
       "\n",
       "\n",
       "\n",
       "  <div class=\"bk-root\" id=\"f65dc0f8-6f2d-4f9d-8379-2f693de65600\" data-root-id=\"3390\"></div>\n"
      ]
     },
     "metadata": {},
     "output_type": "display_data"
    },
    {
     "data": {
      "application/javascript": [
       "(function(root) {\n",
       "  function embed_document(root) {\n",
       "    \n",
       "  var docs_json = {\"fca21918-c365-473a-8654-4e93d0809132\":{\"roots\":{\"references\":[{\"attributes\":{\"below\":[{\"id\":\"3399\",\"type\":\"LinearAxis\"}],\"center\":[{\"id\":\"3403\",\"type\":\"Grid\"},{\"id\":\"3408\",\"type\":\"Grid\"}],\"left\":[{\"id\":\"3404\",\"type\":\"LinearAxis\"}],\"renderers\":[{\"id\":\"3425\",\"type\":\"GlyphRenderer\"}],\"title\":{\"id\":\"3625\",\"type\":\"Title\"},\"toolbar\":{\"id\":\"3415\",\"type\":\"Toolbar\"},\"x_range\":{\"id\":\"3391\",\"type\":\"DataRange1d\"},\"x_scale\":{\"id\":\"3395\",\"type\":\"LinearScale\"},\"y_range\":{\"id\":\"3393\",\"type\":\"DataRange1d\"},\"y_scale\":{\"id\":\"3397\",\"type\":\"LinearScale\"}},\"id\":\"3390\",\"subtype\":\"Figure\",\"type\":\"Plot\"},{\"attributes\":{\"fill_color\":{\"value\":\"#1f77b4\"},\"line_color\":{\"value\":\"#1f77b4\"},\"x\":{\"field\":\"x\"},\"y\":{\"field\":\"y\"}},\"id\":\"3423\",\"type\":\"Circle\"},{\"attributes\":{},\"id\":\"3409\",\"type\":\"PanTool\"},{\"attributes\":{},\"id\":\"3410\",\"type\":\"WheelZoomTool\"},{\"attributes\":{},\"id\":\"3632\",\"type\":\"Selection\"},{\"attributes\":{\"bottom_units\":\"screen\",\"fill_alpha\":{\"value\":0.5},\"fill_color\":{\"value\":\"lightgrey\"},\"left_units\":\"screen\",\"level\":\"overlay\",\"line_alpha\":{\"value\":1.0},\"line_color\":{\"value\":\"black\"},\"line_dash\":[4,4],\"line_width\":{\"value\":2},\"render_mode\":\"css\",\"right_units\":\"screen\",\"top_units\":\"screen\"},\"id\":\"3630\",\"type\":\"BoxAnnotation\"},{\"attributes\":{\"overlay\":{\"id\":\"3630\",\"type\":\"BoxAnnotation\"}},\"id\":\"3411\",\"type\":\"BoxZoomTool\"},{\"attributes\":{},\"id\":\"3412\",\"type\":\"SaveTool\"},{\"attributes\":{\"callback\":null,\"data\":{\"x\":{\"__ndarray__\":\"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\",\"dtype\":\"float64\",\"shape\":[1261]},\"y\":{\"__ndarray__\":\"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\",\"dtype\":\"float64\",\"shape\":[1261]}},\"selected\":{\"id\":\"3632\",\"type\":\"Selection\"},\"selection_policy\":{\"id\":\"3631\",\"type\":\"UnionRenderers\"}},\"id\":\"3422\",\"type\":\"ColumnDataSource\"},{\"attributes\":{},\"id\":\"3413\",\"type\":\"ResetTool\"},{\"attributes\":{},\"id\":\"3414\",\"type\":\"HelpTool\"},{\"attributes\":{\"callback\":null},\"id\":\"3391\",\"type\":\"DataRange1d\"},{\"attributes\":{\"active_drag\":\"auto\",\"active_inspect\":\"auto\",\"active_multi\":null,\"active_scroll\":\"auto\",\"active_tap\":\"auto\",\"tools\":[{\"id\":\"3409\",\"type\":\"PanTool\"},{\"id\":\"3410\",\"type\":\"WheelZoomTool\"},{\"id\":\"3411\",\"type\":\"BoxZoomTool\"},{\"id\":\"3412\",\"type\":\"SaveTool\"},{\"id\":\"3413\",\"type\":\"ResetTool\"},{\"id\":\"3414\",\"type\":\"HelpTool\"}]},\"id\":\"3415\",\"type\":\"Toolbar\"},{\"attributes\":{\"data_source\":{\"id\":\"3422\",\"type\":\"ColumnDataSource\"},\"glyph\":{\"id\":\"3423\",\"type\":\"Circle\"},\"hover_glyph\":null,\"muted_glyph\":null,\"nonselection_glyph\":{\"id\":\"3424\",\"type\":\"Circle\"},\"selection_glyph\":null,\"view\":{\"id\":\"3426\",\"type\":\"CDSView\"}},\"id\":\"3425\",\"type\":\"GlyphRenderer\"},{\"attributes\":{\"callback\":null},\"id\":\"3393\",\"type\":\"DataRange1d\"},{\"attributes\":{},\"id\":\"3395\",\"type\":\"LinearScale\"},{\"attributes\":{\"fill_alpha\":{\"value\":0.1},\"fill_color\":{\"value\":\"#1f77b4\"},\"line_alpha\":{\"value\":0.1},\"line_color\":{\"value\":\"#1f77b4\"},\"x\":{\"field\":\"x\"},\"y\":{\"field\":\"y\"}},\"id\":\"3424\",\"type\":\"Circle\"},{\"attributes\":{\"source\":{\"id\":\"3422\",\"type\":\"ColumnDataSource\"}},\"id\":\"3426\",\"type\":\"CDSView\"},{\"attributes\":{},\"id\":\"3397\",\"type\":\"LinearScale\"},{\"attributes\":{\"formatter\":{\"id\":\"3627\",\"type\":\"BasicTickFormatter\"},\"ticker\":{\"id\":\"3400\",\"type\":\"BasicTicker\"}},\"id\":\"3399\",\"type\":\"LinearAxis\"},{\"attributes\":{},\"id\":\"3400\",\"type\":\"BasicTicker\"},{\"attributes\":{\"ticker\":{\"id\":\"3400\",\"type\":\"BasicTicker\"}},\"id\":\"3403\",\"type\":\"Grid\"},{\"attributes\":{},\"id\":\"3627\",\"type\":\"BasicTickFormatter\"},{\"attributes\":{\"formatter\":{\"id\":\"3629\",\"type\":\"BasicTickFormatter\"},\"ticker\":{\"id\":\"3405\",\"type\":\"BasicTicker\"}},\"id\":\"3404\",\"type\":\"LinearAxis\"},{\"attributes\":{},\"id\":\"3405\",\"type\":\"BasicTicker\"},{\"attributes\":{},\"id\":\"3629\",\"type\":\"BasicTickFormatter\"},{\"attributes\":{\"dimension\":1,\"ticker\":{\"id\":\"3405\",\"type\":\"BasicTicker\"}},\"id\":\"3408\",\"type\":\"Grid\"},{\"attributes\":{\"text\":\"\"},\"id\":\"3625\",\"type\":\"Title\"},{\"attributes\":{},\"id\":\"3631\",\"type\":\"UnionRenderers\"}],\"root_ids\":[\"3390\"]},\"title\":\"Bokeh Application\",\"version\":\"1.2.0\"}};\n",
       "  var render_items = [{\"docid\":\"fca21918-c365-473a-8654-4e93d0809132\",\"roots\":{\"3390\":\"f65dc0f8-6f2d-4f9d-8379-2f693de65600\"}}];\n",
       "  root.Bokeh.embed.embed_items_notebook(docs_json, render_items);\n",
       "\n",
       "  }\n",
       "  if (root.Bokeh !== undefined) {\n",
       "    embed_document(root);\n",
       "  } else {\n",
       "    var attempts = 0;\n",
       "    var timer = setInterval(function(root) {\n",
       "      if (root.Bokeh !== undefined) {\n",
       "        embed_document(root);\n",
       "        clearInterval(timer);\n",
       "      }\n",
       "      attempts++;\n",
       "      if (attempts > 100) {\n",
       "        console.log(\"Bokeh: ERROR: Unable to run BokehJS code because BokehJS library is missing\");\n",
       "        clearInterval(timer);\n",
       "      }\n",
       "    }, 10, root)\n",
       "  }\n",
       "})(window);"
      ],
      "application/vnd.bokehjs_exec.v0+json": ""
     },
     "metadata": {
      "application/vnd.bokehjs_exec.v0+json": {
       "id": "3390"
      }
     },
     "output_type": "display_data"
    },
    {
     "data": {
      "text/html": [
       "\n",
       "\n",
       "\n",
       "\n",
       "\n",
       "\n",
       "  <div class=\"bk-root\" id=\"91ce38c8-3646-4a86-8774-c333f3f4da88\" data-root-id=\"3427\"></div>\n"
      ]
     },
     "metadata": {},
     "output_type": "display_data"
    },
    {
     "data": {
      "application/javascript": [
       "(function(root) {\n",
       "  function embed_document(root) {\n",
       "    \n",
       "  var docs_json = {\"f49c4dbc-3631-4f34-b375-2df5c3ff08a8\":{\"roots\":{\"references\":[{\"attributes\":{\"below\":[{\"id\":\"3436\",\"type\":\"LinearAxis\"}],\"center\":[{\"id\":\"3440\",\"type\":\"Grid\"},{\"id\":\"3445\",\"type\":\"Grid\"}],\"left\":[{\"id\":\"3441\",\"type\":\"LinearAxis\"}],\"renderers\":[{\"id\":\"3462\",\"type\":\"GlyphRenderer\"}],\"title\":{\"id\":\"3818\",\"type\":\"Title\"},\"toolbar\":{\"id\":\"3452\",\"type\":\"Toolbar\"},\"x_range\":{\"id\":\"3428\",\"type\":\"DataRange1d\"},\"x_scale\":{\"id\":\"3432\",\"type\":\"LinearScale\"},\"y_range\":{\"id\":\"3430\",\"type\":\"DataRange1d\"},\"y_scale\":{\"id\":\"3434\",\"type\":\"LinearScale\"}},\"id\":\"3427\",\"subtype\":\"Figure\",\"type\":\"Plot\"},{\"attributes\":{\"fill_alpha\":{\"value\":0.1},\"fill_color\":{\"value\":\"#1f77b4\"},\"line_alpha\":{\"value\":0.1},\"line_color\":{\"value\":\"#1f77b4\"},\"x\":{\"field\":\"x\"},\"y\":{\"field\":\"y\"}},\"id\":\"3461\",\"type\":\"Circle\"},{\"attributes\":{\"data_source\":{\"id\":\"3459\",\"type\":\"ColumnDataSource\"},\"glyph\":{\"id\":\"3460\",\"type\":\"Circle\"},\"hover_glyph\":null,\"muted_glyph\":null,\"nonselection_glyph\":{\"id\":\"3461\",\"type\":\"Circle\"},\"selection_glyph\":null,\"view\":{\"id\":\"3463\",\"type\":\"CDSView\"}},\"id\":\"3462\",\"type\":\"GlyphRenderer\"},{\"attributes\":{},\"id\":\"3446\",\"type\":\"PanTool\"},{\"attributes\":{\"ticker\":{\"id\":\"3437\",\"type\":\"BasicTicker\"}},\"id\":\"3440\",\"type\":\"Grid\"},{\"attributes\":{},\"id\":\"3447\",\"type\":\"WheelZoomTool\"},{\"attributes\":{},\"id\":\"3824\",\"type\":\"UnionRenderers\"},{\"attributes\":{\"formatter\":{\"id\":\"3822\",\"type\":\"BasicTickFormatter\"},\"ticker\":{\"id\":\"3442\",\"type\":\"BasicTicker\"}},\"id\":\"3441\",\"type\":\"LinearAxis\"},{\"attributes\":{\"overlay\":{\"id\":\"3823\",\"type\":\"BoxAnnotation\"}},\"id\":\"3448\",\"type\":\"BoxZoomTool\"},{\"attributes\":{},\"id\":\"3825\",\"type\":\"Selection\"},{\"attributes\":{},\"id\":\"3449\",\"type\":\"SaveTool\"},{\"attributes\":{},\"id\":\"3450\",\"type\":\"ResetTool\"},{\"attributes\":{},\"id\":\"3451\",\"type\":\"HelpTool\"},{\"attributes\":{\"active_drag\":\"auto\",\"active_inspect\":\"auto\",\"active_multi\":null,\"active_scroll\":\"auto\",\"active_tap\":\"auto\",\"tools\":[{\"id\":\"3446\",\"type\":\"PanTool\"},{\"id\":\"3447\",\"type\":\"WheelZoomTool\"},{\"id\":\"3448\",\"type\":\"BoxZoomTool\"},{\"id\":\"3449\",\"type\":\"SaveTool\"},{\"id\":\"3450\",\"type\":\"ResetTool\"},{\"id\":\"3451\",\"type\":\"HelpTool\"}]},\"id\":\"3452\",\"type\":\"Toolbar\"},{\"attributes\":{\"bottom_units\":\"screen\",\"fill_alpha\":{\"value\":0.5},\"fill_color\":{\"value\":\"lightgrey\"},\"left_units\":\"screen\",\"level\":\"overlay\",\"line_alpha\":{\"value\":1.0},\"line_color\":{\"value\":\"black\"},\"line_dash\":[4,4],\"line_width\":{\"value\":2},\"render_mode\":\"css\",\"right_units\":\"screen\",\"top_units\":\"screen\"},\"id\":\"3823\",\"type\":\"BoxAnnotation\"},{\"attributes\":{\"source\":{\"id\":\"3459\",\"type\":\"ColumnDataSource\"}},\"id\":\"3463\",\"type\":\"CDSView\"},{\"attributes\":{},\"id\":\"3822\",\"type\":\"BasicTickFormatter\"},{\"attributes\":{},\"id\":\"3437\",\"type\":\"BasicTicker\"},{\"attributes\":{\"callback\":null,\"data\":{\"x\":{\"__ndarray__\":\"AAAAAAAAJEAC1N5GkvQlQLoqWNKU6S1AHNnDmnt7MED0op7DSmsmQMbUTmcuPBVAbrRbO3gX9T+OGZoIQ53yv4SRXbGOLgTAa3ufXZ9FD8CbT3Z3Yf0ZwOYXFS7KUSfAtx+Bx3g4K8Cb1tnBVUgkwBhKz+BYxRfA4Dak0ox7CsCYa20vQugBwDG4mhJanAPAUtnrmG44DsBPwfTZlckgwD7/jB8AhyrAgG0NUUieLMCDhF5EYY4jwJMgDpP3cxXAnFhq5yYsBMC6mgLlHzHuv6yoMx0Hh+G/AomR+1Hj2r/PSswpbnbdv/5/1u5Icea/WayXXUfX97/ExyO8i6YUwJbf9UN3eSfA4xX+vWi5MMCNGPUwgU8uwLGY59FIByPAlLOkDsNlEMAQ7AbTN+nZPz25gJR0MAZAr/Ebvrf8EEAYCDlKF8AZQMaNPzLq3yRAbSzQ90h6KUCZpqAWzGAkQO4WQm3bxxlAA0fr4vmOEEBM1sJBaIkMQHo03lGI5RNA8svd4b+nIUCy5bgR5UApQI5OnhewxihA4jwuqMDiH0BHInXSEsoRQAABGpWceAdAbiknaCCxB0ANNxvuEDARQILZarvGKSFAmlWhe4riKUDS5g6B/rkqQHYOyOWReyFA391Tsq3BEUBUzgZJaAYDQEHANEGwkPo/RNtDb/Cg/D8wkCE2YcQFQMIomOwBlBdACCa/pqb4JkBVY4RmQGcuQGT+2Ka/JylAI6bh7sd3HkBeVwrjuWkMQDQsaW+4s+s/cPVA/C9Qwb9GyaxzKWvmvzrpceE5pPO/RzZah80RAcBFpU7SE34RwIKidxtH/CTATpksWLRsLsAvWsXMcB8twGzajdVIqSLAXwTc8m4LEcBw9OR7fPDrv4h8Vw0N++Y/Rh4vs29l+j/jRIUEs2EFQDDT1nNAexJA6lbJdICDIkBihtKqHoYrQJZ5YH9saitAZDtZfeYlIUAlN7zzO5ISQH79qkKn2AFAhkvq65yX7z8MuTzwo7riP/I4eMM3Td0/vpyH/tFO4D98tU1GqijpP7xb5QDSSvs/NBhrHQkGF0BfvOYWHqMoQHzEf28B5DBAiOTHlfnbLEBuKHm7HsghQNqqBmPgjg5AIIwFV+u+479Vk4cgBjAFwOAGnz1EYBDAcvTtrALwGMCaa3Gdm3QkwFHfstQsqSnA1cm93ocpJcDGRwnyNfAawDtNa49RyRDAeB1DccIBC8AQ0aV4EgsSwLTnCj1vFR/AvpKx9O1sKMAjRe8bOzsqwF7OJ1L4XCLAgPYR0QaNE8DAMlxJVNgHwM0npbAfrATAlz7Skx8AC8AYloIBiUMYwO6RCBDvEibAV3vfH3JvLMC4BpcOOycnwC8TgfZnKBzAbFLY0CH/DMBJkbs4vXb/v0JV9+7+fvS/+0DTYRG49L9YUGZbtd79v84ixTksIg7AWgcDGg5+IsAOeQ869RAtwDtz76ZFgS7AYssx18juI8C5VX860W0RwJwZxtKIofK/DIizkaFl4D/054tjniH3P6gkeI/i6wJA2hDysPlBEECOkCKZIVEgQGOPGbZlzipAeJ7zXYTvLEBSjVnlaK8jQO5XICq7oBVAEcieEozsA0Bsz86lDwPnP0LCyzGfD80/oN/lygP8jz9+E5LqUi62v3wQSxeEfsW/1j3O6xHM078ZM9evKA/lvw7M7MdwYPy/1l9phzVxFsCM5rcvNJEowEGcmBU2gjHAhjKtkCdGL8Dw8PYxEaYjwKQavYffsRDAsKWuWAzr7z8T+/M4VJoMQGiMS7km+BRAEMpvX1jMHUCkOvacz5ElQFhR0tquACdAfjtnXcABIUCYfGIhhxoWQI1rQNXBShNAgLBkxv3wGUBMMh19L34kQIQIHOKJHihAMVw/2QAZI0AG5/7wdwEZQM8KSNHzShJAWIMKBAcbFEBbeGRnEBcfQKPBTWdFQCdAm0T648TqJ0AWj7GjvK0gQIRDAH2kQBRAMLRqPrmdD0AqT3dLckgTQNx9XX9wEx9AS49KKmjFJ0AQxlqByfooQCr+GGIHdSFA/NGldnHlE0BcEsO/orsLQBFfzddaPQ1ArlBsIu23FUAEE/caLj8lQByaTECt5ipAAgIRrIf9JUA3iDG82UYbQDvp+xqoDQ9AgNVClDmqBEAy/6avA7IFQKn7q+DLPBBAeOPBZ6AEIUDOEKmqrDIqQIQ8g6xOYCtABJaaOXDdIUD9JrMw+TMTQGyrxHuOEgNAAzQZLUuS9T+waqNN+pzxP9KP6jTsffU/0uLR2ekAAkCgkpan33IXQARt1UXC5SdAyIrvu+TDL0AvkUNmEEAqQJaabB+0yB9A3PXvYDRfDEDw0QzvcOPIPwrn1cyv0PK/lSwZYW7MAMBCAApOaCQLwDG5L0F1nBjA2Frq7jF5KMBiFmBgK/MswGf0eOiTaCXANWLjyxChGMDdE3mE1CAIwGpfkfyX/vW/nGxYbno/6r/ESCPHx0Pmv01Wlfc6b+u/lGQ6lwYW978rZwgV+ssNwNg4XJdQwiPAoST9wECgLsA+2QDEYHQvwARx0yY9ayPAJmVOuqDtD8CgTOFZ9aLEvz3631e8d/w/WC+Z/3JFCEBGRRcBKdkSQAI1TIpZKSBApJKSgvMuKUCF0cB/nQcqQCKPhs7djSFAL6tfE4mzEkCgQbeQw2gGQF8kkcWDLwNAjRIpqFhsCEAiKFAlEZQVQCT8zGng7SRAGMvR+MZ3LEB2csdD98coQGWkObW11R5ALTYcytAED0AKdZ5GAZT/P2IYiFln6PE//jCyTomX7D9x2CYYRsDwP1T5meZxCvs/4oZ0THgvEEBCWDxXjDkkQGDPQBAGhi5AE3+iIgdtLkBQINKK1G4iQCiNsMsI6Q5AWGsRiIUX0z/CBpO+kVH2v1arCdi/5gPAFJf5pER/D8AmIUmw9K0bwFh6G4apkynA20xdU/RVK8AOSptNobMiwO6/nN2QjBTA6gFZzpZnBcAoqJBhH+P6vzh+f8yqVvq/BZAI9fe1AsA0xFLNYpcSwPqb3aLCniPA2pFYC2ZCLcCIg548PeorwAANvovd1yHAZCspTwXNEMBGe8fZawn1v+CG9adkT60/mLLn45Fj6D/t31JJhBn1P+grGzQCPwJA9xOwIuqBEkC0GqWJ880lQKETJMtHqS5AELNdVZMWLEBIU47/KK4hQPrCIIubKhBAhHx02i+L6T+6sAgj7v/jvzRJdhAle/e/aG6ltdc2A8Dzt3IgT7wQwOweUxBMFCHAIK/K//EwK8C9zvEOzeYswMUyViH7YyPA+Iw6a+RAFcDj33/fFnYDwOwEaGebmeO/MI0ym3+gvL8+l36JntO6P8TJ8fU8INA/3oGLgPwG3T/wJCsB1q/rP9jlAbZlTABAoKLxqBxiF0By94vLeOMoQL7/ipS6KDFANc/ZqCVtLUDlDrNZTzMiQIzLmMaGIQ9AsDY4ss8m6r88Z/0HcC8JwNSIULJLwRLA7GBcu8IjHMCDHJafiAsmwEXKlM9irSjAdDkSCaNpIsCEVeFLzdgWwN4Ta1LWMxDA8Y2L7fkREcC2HlaRuLkZwDOOkzu7OyfAfSS2mPlzKcCMA066zVUiwAUw0ei9rxXAqsu1EEReDMDHY1VmKQkLwJihB5ihJRPAszaWZngEIsAyG2037cspwC+cH6b9PinAE+Nzw2QRIMAcE9E1uloRwMqWLgJBTwXAqJj21B5bA8Bd5Bnb8fMJwLraWW7wGRjAckV69M+5JcCv9bRgZboswElkJIfa7ifACx5Eaj9HHcCpe5ygK3oNwA8sgsjdIv6/8KI59jcu8b+u7dT+U3frvxXZJg0KEPC/KwD659Ph+b+UvSUaGNYOwODyuZxSzSPAjDAckmJVLsCY9MwNYsguwPiZiunt6CLA1sqJsn6kD8DQp9/zzt/Vv5RhiGTJzfY/I0Ae6L5oBEDTyzZ9WRQQQISoZk4UDxxAANGlO9CaKUDvg+GeKAkrQDCez3UuVCJAMyyPMjoTFEAiTlFvuFUFQKqa/6t66vs/sq24ku3F/j/mVY+bA8cHQPgLf+WloxpAGKE0lQWWKECJi1gZLF0uQDPygJvDJydAdSBswPMhG0A9FokBITAJQOTcBMfIU+Y/dNKvgDxCwb8QyhDB/ZXjv0N/fW1bKfG/vPzrXZtE/r9/kXhfbLYPwPMKGgyRqiPAWuwWfvkALsAckgFOmHcuwFoHNSSeziLA5hMhYCbjD8CMYHpegKbgv4rxNnnUdfI/CG4QhyqLAUBg7uMdnOULQAR9PpkGahhAgswIOaiJJ0CRWtYVzHcsQAhGl+4QniVAAti3AzFgGUAl1X26k+0MQDOJF2vvnwBApHMgbm3x9D/t2Fdxr1X0P2wNlnm7ffw/YIRtIyiuC0Bish0k+CkhQE3i6bPjjSxAip8ydR/PLkAWWpjh75skQMnWo4AROhRAUisXCuTq+T+AHQhuGeTbv69PHbdN1/e/JBm6PY9HA8CREFiObKQQwBQmpRD7vCDAPkgcK7H1KsARO7sTNM4swE1BqxHebyPAMtROeSRJFcCc/R0W76EDwPz70KDR7ua/5OxTw52cz7+o8oRcfk+qv3SKKw5A1po/fAbNJ2QutD8I2h5B6b/CP5T7gitnNtI/BSPwSkjH5T/qKpFOdUUAQO/hwMtBQBtAPnK2gbbKKkANBV1GXRYyQANux8Fnty1AfLpKzahiIUDyVs6BtzcKQKQ4yVZbkf6/ad78Dmo9EcBMTWq99PkXwOW3lAQzxyDAp73cdByCJsB+zPRjqDUkwBScxOzuZxzAMWgkasJyFcCcn9No/TEXwPXDMRuZiSHAFH2orTrxJsCLoN8jO/YkwIaPsubpFB3AOhz3NM/UFMCSXDNMPeIUwPocJt9GVB/A/Fd/wfyvJsA3oVVIE7ImwBhcGR2dkR/AEol5cG3EFMDRjRR4J3cSwPZ/w1WrJhvAxdFS78rJJcBzQ3ILrlkowG490ElYQSLAcea/L8v+FsBCg1CKQuIQwCLVuoyskxLA+pcw57OBHMCOzkeIOvUmwIK+HVjh9SjA4g+DQBcGIsC4MV60SaUUwDp9KEDTeQ3Aq6/NFYKlD8DGk4ocmc0XwD7Hd0gQsSbAjHOj28NkKsAaWg6xAdQjwAB/AsDYsBfAGo4Y7S9qDMDkozMmj3oGwAKTc/7hTQ3Aj7FJ1OyLGcC0nl7eWdEmwGkwmbjY/yvA4LLUU0e2JcA7z+6aae0ZwF3DdJBfhwvAuHKPwcMjAMDyCBGuFZL6v6LwlNB4MQHALIu+2SilDsCc47K02h0iwI+M2DFGLyzASqcTYQRlLcAIZTFIQkQjwOAch7x+xRPAbi/G6fcB/7+An4bS3ofHvxQ22ln1ct8/rHc1+L2g7j8mvjjfPA76PwU3FJ40zghARv5jWG+1HEA9JKrLOrgqQCtYqRWl2C9AS226gwEuJ0D2tlgQzB0aQD/H5uxOjwVA2J7hJRTC079fy9RtYPv3vwpKSPzInwPAs4/ryuhGEMAogawlUAUfwIBHd0zmDSrAmxJa345nLMD0SbDKB5ojwPrTxolZlRXA2jYurenDBMC+b3Cscezyv3q171nFtOi/JQautcg56b/EFtBRsTPyv8zof04TKwLARuXfb75WGsAiR4XyJPwpwI5eFPoQiDDABuP7YLeVKcBjpBVaXycewIT+tylkkgnAtOC3SDcD4j8mSt/v6xQBQCJ2YsZ04QpALvupHbB2FUDQhGJ2bRIjQErFOfbzdCpAwXwVv9+cKEAF1nxrnO4fQGyNRcwAcRFA7BJ7cEndBECTfAzqV0QCQBoPGAc4zwdAd40P7Jx/FUDDjXK2kVskQAwDlZSBgixA1FgO82JgKUC3x4tKi8kfQHP58De3FRFAmzRilxvCAEBqTAlRhz3xP8TYLDQMIOY/pFRFexuU5D/S3cLoiYvrPzKQcNp/HPk/cNH/4fjwE0AscrlOfsUmQEjtfA9FPzBA6zL98S6vLUB1LwKd0qciQO9lPAo9URBAAFCVkTi+mL80WmPGyej/v1aIB3huYwrApZ8ABh9jFMCfLvjqUFshwPZ+o/41VynASwX+bv/DKMB4QYJyT4AfwJzyG0D8dRHAQwwrgSS7BsB3VtenupQGwLB4h6nsNBDA/N8xStkRIMCYk0rrO4gpwHOEdLMFqyvAWDX+mmAuI8AsP2VLQzUVwCiyPCQwngfAcz9vyOnd/b+LFjBmObj2v/4UQcSq+fq/Wl2euIgcBsAOP8IiY4wbwIh2g8fgiCnA33gUSvcQL8BtBQxfJjUnwPz/w1fqARvA6TVFrmdLCMDI85G5yKvQvwaxIGqMquc/1G2u1WKO9j89L//yprUCQLSZCmWmWBFAY7s6Kpv1IkBiSI7oj44sQOKSlG65sSxAnvA1SGXUIUAWmBLY8igQQNK8RcElBPU/ADw9RR9MlD/a72+j/mTkv5iFR0K4EvK/srwtMxw0/783qyaTrVMPwHD00vTcwCLAUpLGyZ89LcC32kmtR0EuwCsNthPu8CLAe+MOl3xJEMBYK4+roTnpvxb0WG+IbOk/DH365OKK+z8oJd8yv0MGQN5abkwqTRNAsDwk43hPI0AEtAKoleIrQOeG/G/i3ypA7JcpISRTIEB8m5gSoq0RQMviF/fGUgFAvHngyRDa8D9aQQpBuHzkPys2zSI1leI/DTrflWFE6D9Nymh2JYj1P0iboJDZUA9AWMR6EaBwJED/WEiQkk8vQIrPyPnIrS9A8YUEWIdGI0DwOaoIDTwPQEC1DrfN47y/4kGR9tERAcA+ZHAXw9gLwIRW0rmHaBXADKhk80cNIsByNVFWUm8pwGlW16p5PijA7VlgjrVnHsCe8yO2oUIRwEJJoJsXrgfABn/w/+hpCcBrVIHdi0UTwIvcflq9+iPA/9j3O6pIK8CDEOsSF78owNri7ntilB/AtjsvJHyzEMBPQhMDGYoCwB3FqEkAQPy/HiasvaeqAMAKLd69EU0LwElZSB3+wSDAYnJqlZAoK8BknQy0x50twNfoZ4S2PSTAzUC9pSJ7FsDGROUfDToEwHg+oOOT6dm/LBUNrThWyj/IUPetaMTiP7Tkr5OZXfA/hN9GKb6N/T/tKCnxfRwQQI77+uQjlCRA7L5HW0S+LkCrBmTdn4ouQITaSVNeeyJAMHHAUF3dDkAw71EpqEjOP0JCWaa/3Pe/+4VoCfHtBMCOguDaNoMQwD1hcidl9BzAoK8atbTpKMB+ZJIQe2ErwIZEBJpQQCPA8S/LbqmMFcAzdun5UekGwJJJjvUNhP2/+faq/A8h/r/jvphfBhAGwK1CKprU4BbA6qXcf/UoJsBnPsMcOfYtwK0Kv1uLeSnAOc819FIxH8A0OpW1RHcNwOjY2lrb1vG/gIF6WrcXuL8I00ata3nbP86i5olzxOk/53OferFM9j/MCuTm1QQGQE2F9FJnrRpA6jgr2JoEKkAL4OS+2VQwQF+KDwOZ7ChA29u8k5lBHUD6W9oKWRQJQEjePqyQttq/0XGqhEzi/b/4GsJ8gOsHwAfIuFLTThPAaFxOz5GNIcDT+f9H+yIqwO1xLQp+ECrAFN5SazyVIMDgKvrnhiMRwMINc9/ZAwPAYHDPUsTD/L9I+0zJgMYAwIwmylKQPAvAskbHM4ViIMCu0ycq+vQqwFYI7sg7nC3AXNWsiUheJMBMoDw3fqIWwH+ourqeaQTAAJq5ExFJ3b9QmbANLM/DPwlGHYA2xOA/2Nowq4Fl7T+S7Uxrn376P8p5RPleugxA60GEZnuMIkBSQ0wsOcQtQN9//1MhCjBARGR3P6RIJUAh38hys9IRQEiygaB1xeg/qqdQUbY79b9efQlGpn0EwOMfnKWx4w/AVrYj4joIG8BehwsSaGkowA3Vx89/JivAEIw62LdaI8CWfgW8XvIVwKEeoy2NEQjAFKOt9fhiAMAu9O04RGQCwPfhjCSE0QzA5ASVWml1IMBeU9wDkKIqwLjCs6EcEC3A1qWU9fH5I8A5sFddYAoWwPy2o54GUATACi82F46Z57+oaS7ATpzMvwDoxtm6ZhU/cM+rxlSgvD9Dkb5zzujKP+iZ+KEz6Ng/IqS596Am6z/vPxARz7ACQDRTyFsFhx1AlmcKlVYFLEDT+Ju0etcxQO43yV1nVitAXUivSBmDHUBEmFz/UB0CQPI2IqMeVQDAIsGyQag2EMB79owaS9YWwFXET7TpriDAtBaBUPFjJ8BUl3tsTcAkwFCwx+yOSBzA+HMLK+jzE8AkxT6Rv6UTwBLN/7ThaB3AWkjG6QhIJ8B1tx8uod0mwGSJrZnM0R7AOMf4QVPUE8DjYWijghcRwOKOzEHSjRjAs9s1Hr9lJMD3jgstEi8pwC0AIahQhyTAIFAJTt5aGsAYml7COjURwCIzt5aHSg7AoW7yTddyFcBuhuQDq+0iwIGh84UXoCnAWVq718ZiJ8CH/u2ucYUewOh2hoH1zRHAlRr+GmLoCMDiH9Nv4GwLwAxqKnFuIRXA0NLG4t/QJcBK8ui8yoUrwBPzBIk/MibAv1wYSMImG8BBFckheLMNwFrmF/z4GwLA3yCpMJSFAMCGsNJfzHQGwIaWTgTTHBXAbmP6YSw2I8AiI1VpOssswBh+fssPlSnAapJbNcTfH8DG62LH7O4OwAKfjxMThPm/1S8kSxaG47/CCESr1KnJvyxppWxGKaW/urx5MEMTlT9PrB5Gtw2wP4zJ3EMo+b0/4XRDUpBDzT+SWi/t+JrhP0Uz7rsIhPo/HWjOVeKEFkBtb+oioJwoQAap5oKqzDFAMKQWgo8aMECeosjxS18kQONHsIB+TxFANPzAgnSd8r8pjc66+y0PwG2wJFHvghbALul1PGPRHsDSf69VeiMlwL4Lqgkl1CXAwJuaKxAsIMCKdTvfx+gWwKVSoQ8kZBbAFdyZTF28IMAXdjzGkHEmwPP+Yarg4STAZajv4A9cHcDJi9pqOm0VwIPwOTzT9BXA1emuEAaBIMC3YyNMw7kmwN1jDGDAiSXAjRaTPF/EHMAeBILk+GMUwPhhX9gMfRTAx1pTgQS4HsD7rsLSlrMmwDe+WBlSECfAWDfL6dcpIMDQ61OoXMcUwKeA2oPy0BHAIFMfCzsbGMC03gmWoLQjwNFrtCGqxCjAWZ5N4iHQJMAK7RraNjUbwPpF47ckCxLAn5p8gQ00EMAiJcIw1UoXwFooVGL0OyTAcBpHOnGnKcCGKG9g5G4lwKscD5CFYxvATq/IEE71EMCsx0muwOQKwOFcAmtv0BHAmrKTxgV1HsCDHUPBoEgowMDrMe+LVirAjqrXxteUIsC/l7NfAC0VwJEmLvoIAAnApmUbTQ9JBMAXDlQNUw4KwDiAC7sqxxbADri4yz52JcCmV4LDi18swHblD/SA3ifAXhSe0TthHcCx+pVCcRcOwNP1K6OJ3f+/ti16ztCd87/RgPZiQc3zv02/OH4HfPy/WIzJsxeaDMB5hcoqNgMiwKoIv7Ve7izAMLr51UnQLsB44drFFGAkwOlZ2k/etBHAWDqQnz7x8r9Gk49AD0viP+R3lq2jxvg/ZKtKY0skBEDs00XpskIRQADvH2AxMiFAWRQc1I3+KkDD3Iyrw3IsQEzmcFYhBCNAPnkgsoezFECAhRjEA1YDQGKz1ROkKu4/T0h5btrW3j8crqto9OHUP/bm8gee9tQ/aX6XCqa23T+slhoh2aDsPwhwRcBXqQhAkoR9U6hdI0BkugQORWAvQBFQcgF/vDBAnz51DV3rJECtqlvt2FUQQMCQNNvo3da/g3cRo0KBB8CcVBpERgASwNKD9MdXnhrA0o8gpKDKJMAKp4rGSsoowBx2aPpvnSPAigslpbggGcDKoyk0hD0RwC0/Gy9H8xDAjon8YLM/GcDwcgq7dWUmwPkw7ZkJjSnAY3GVMQwaI8CabTDnqSkXwBr8L2eyFA7AvUOImhxbDMDJZBynJKgUwMyJ4IMTgyPAU8Y8GaRiKsA+tArytdAnwJoJ6ozoph7AtnyaFCUjEcBWUZ4RttEFwEKZhWDXJgXAlYlE3SLWDcDNzgx6YigdwJLqRn1PzCjAPwKCl/hULMCrD62lhHYkwH0dzmNRMxfAb6qtqBn+CcBzW+9QE9n9vx227WLLr/O/AL0bu65g87+Uo/EXUWH7v26M0XFO4ArAPk7u2rMfIcBYazymBZkswIbQoFmdCy/AFZIhD7baJMCDx2Gpg2cUwPSEIt0RdPm/oGkacVTk4D9u64M3yQX6P6gxSFD25gRAdLppKCX/EUDYPzcid+8hQOSLCKRxNytAdsIfBY+gK0CIhllmroAhQLT+5Ms46RJAYE10sfsHAkA0UO5bCqLvP5lkApvHteI/corX6Cky3T8+9g0h+zXgPxRCCeld9ug/DvjIjvb/+j/KXzpTlNcWQJw3frmCjChA2MeXihPhMEAIiE+guPcsQOKC/0vg3iFAYPXQ+DmyDkAYR3HGBEPjvyarDwVnJQXAbVnIwjFcEMAXhPQvJOUYwKAvY5JaaCTAeV1Ra0SlKcASFH0oDjQlwEByDjbDBBvAavYHOVrVEMCyYzTq1Q8LwCSh1On3ExLALOyiptgeH8DWhIhgI20owKT5Ie/oNSrASVQ1CfNWIsD1CJiwp4sTwPJTnslv4QfA4a9SBW7EBMD6Kg+X7ioLwEwMM2/SdBjA0UTKeyYtJsDZnowv8m0swHYRVqAGBifAcztB15DxG8AakPx8ytAMwHCFQ9CbbP+/OuWR3emk9L9pyYlSGzX1v8BNuOmF9P6/cxtcBxPBD8D/QyNMCR4jwLaR8KHBVi3AEwHGtxOZLcBwwiYqKzEiwOpjP/Lipw/AkHI481QB6r8cZPADitDjP4ED4DX5cfc/SRHyScAxA0CHb0XuorMQQN6zAGAxBiFAIHSVsYQqK0DbEF1kJugsQMKpxwO7aSNAkYq+atZHFUBsX4g2en0DQMqtSn5UyuM/ABoFnT8qvj8eWvPpy3e4v2Y0r9jZ5M6/q7n++TLY279GlrT0bHTqv5XBo9uZ8P6/mz8WfuciFsCkFobF8UwowPQ8CrOuEDHAblOHdrIbLsBAKyQqpcQiwIGBfjJgABDAsHfF+hGQ5j8RQL3awboIQNKgWVPeiRJAgvpiL+6sG0BvWP7/tqolQOR380oYvChA5tviQu3IIkDYdidiGYkXQB3fvH0egxBAXaY08YD/EEBCKkOWV24ZQCg7UMeQ1yZAEhLV49WIKUCon8r4zroiQDzLZ+1laBZAQnSsM3wjDUA4kBtnREALQBa/oYyVQBNAs9CgRl7uIUCvU5UF0bEpQJxC+2bzLylAS3AOymoTIEBZ6TnNb3IRQLWVEKPwpwVAsMqcH0H/A0DPlfZkKCcLQOB0eJilhxlA4M0hkt+8JkDyjRrQ6L4sQJm52IyJ1SZABl40pjRsG0DMffp+jc4LQJUKOsJ8bP0/svypwQS48T9qHahqfKvvP47hbbS2tvQ/frpXZRWIAkBVGDe/3uAcQMggek2a3CpAia95v28eMED3lUNHjZEnQHAaG5BBTxpADENSAd/nBEC08rGr2jjgvzNB1e2Sofy/jA1DW/rcBsCZfuJ7nOUSwK4DYoZAyCHAYaTeB8uSKsA4gcDY3agqwH57eyKJ8CDAveEnC939EMBgFN7UiJgBwHmRcrhEofa/nVd8yGFx9r+222O6we3/v1WKlRkOnw/ARlPsIeGHIsDWG9xDgwAtwH1CYDeiCi7A0LB3YaxuI8Az67f0KC8RwLCWAE21m/O/RC038sH+1j+mYIK1t43zPxCC5wg6NABAK8+IFa/5C0A8auSAfmkcQARnjja13SlAEbgWIj0LLkBkCMryfKIlQOcoE6OYjRhA2BBv02peBkAklE3epRHiPwB44zbpscG/1kVmFmWU4b/TE3WBCNPuv3xwCirqhfu/CJoTXfVjDcDL/3jiwrEiwBpECDJrti3AeZ2Zg/osL8DS8IbfUokjwBMZ8moqTBDAECGkodC/3b9FKtMGWOz1P3Pz3i/DFgRASwFG5kqTD0AKYM1ak1kbQEaEsiQUFSlA0SQwDi9QK0C2TjWArwojQOCu3eO+MhVAK8hEnfuDBkDkCjzFQBL9P9s+l1d7H/4/Bnszp7pGBkCQRxPK7WgXQDGOCTUtkCZAIrmuT9oWLkCb3D656iYpQCXm3tBWmR5AHPltMBvaDEDsq5r0CqjwP3AwLprIX6k/dJgI7e0M3r8R/uXnQ6/rvw9ic0xT/fe/OECc+CbwB8BGbugC/CwdwOLcBHOOKSvABLUCO4M6MMDAJfaXH5gnwE5nZd+p1BnANI9iB1B5A8DsmFhkkQTmPzhKOx5yHwBA/Jx0W0xdCUAWrR3paP4UQHZfyvaXlSNAxvhLfuY9K0A5Ir8aIzgpQPLNYvMONCBApC/KgDv+EECIR+UN110CQFRkAxgPZvo/bQhAvYRy/T8flZPV+wEHQLzPluJdCxpABuq6/VZlKEBwYe2twY4uQETsrkoRnidAkD6unM7bG0Asj5WBFMYJQNRu9A+fnOQ/NJdTGSm8zb/8arHGISPovzyJR+bv3fS/8FMkDopdAsBooXwUnEcTwLokqEIRJifAyhnS0VJsL8CmDVO4QygrwOqRCxFasyDATuhm7p73DcBQ9fuTyp3av5jBr7YrqO8/uTiCGO8w/j9mNSAFvGAIQGq8AY2TyRVArJ4m0P4TJkChkoN5bBAtQGB7c4PwZChAHrK3Y4naHUBZoas3I4ENQLwuDnvFpPo/VV8zHp/06j/c47RBKjbhP+ySZBzjEuA//dVFgbqD5T8u5lQQwo3zP0BodlILDg5A6G12RvovJEA28wX6M1svQA2vsBmWFzBAvDaDL5G/I0DOgtdEirQPQMCWote0xMa/DzG42cOOAsDLAtK+CeINwL6IeLo2uBbACTU+LgjKIsAEXDcZI24pwJSNcTKgMyfA2cx2jf9dHsCSF3bwlPERwFZz5DsvzwnAT/+T8VduDcCW4gNIjy4XwM43SVvUxiXAHpPtsis9K8DqWwUs8sklwEOU2AvbqxrA4dNaA5zSDcDzPaQr4SYDwLnSo45AGAPAeh/isDCQC8Bk4/CnTNIbwESj2aIodSjAZjsL3tMWLcAgb5X1MqQlwEXQeWlL/RjASjuf5jFfCMD5DwrzWR31v8WN9xl1Xui/Up4V/1a64r8QnRwrzrfkvyrx/HYw1u+/vn9Bm6ZGAcBBxLgfymocwPRpLnmGLSvAxFNvX4jWMMCiqUKALjgpwEbrn8NizhvA6lJM0hP8A8BYKjBZHiryP4pgg4JJ8wVA08dc1cWJEEBXgn+bFVYaQIIiu0e0biZA4fqbbpVSKkBu+BP6ePYjQKJvsidBChhAAIjODP0EDUDG3rjlWA0HQGcxSoaPJg5AxJ9oi4lHGkDXaD4KWCgnQLK1kMDn0ytA46RWtUUvKUA=\",\"dtype\":\"float64\",\"shape\":[1261]},\"y\":{\"__ndarray__\":\"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\",\"dtype\":\"float64\",\"shape\":[1261]}},\"selected\":{\"id\":\"3825\",\"type\":\"Selection\"},\"selection_policy\":{\"id\":\"3824\",\"type\":\"UnionRenderers\"}},\"id\":\"3459\",\"type\":\"ColumnDataSource\"},{\"attributes\":{\"fill_color\":{\"value\":\"#1f77b4\"},\"line_color\":{\"value\":\"#1f77b4\"},\"x\":{\"field\":\"x\"},\"y\":{\"field\":\"y\"}},\"id\":\"3460\",\"type\":\"Circle\"},{\"attributes\":{},\"id\":\"3434\",\"type\":\"LinearScale\"},{\"attributes\":{\"callback\":null},\"id\":\"3428\",\"type\":\"DataRange1d\"},{\"attributes\":{\"callback\":null},\"id\":\"3430\",\"type\":\"DataRange1d\"},{\"attributes\":{},\"id\":\"3820\",\"type\":\"BasicTickFormatter\"},{\"attributes\":{},\"id\":\"3432\",\"type\":\"LinearScale\"},{\"attributes\":{},\"id\":\"3442\",\"type\":\"BasicTicker\"},{\"attributes\":{\"dimension\":1,\"ticker\":{\"id\":\"3442\",\"type\":\"BasicTicker\"}},\"id\":\"3445\",\"type\":\"Grid\"},{\"attributes\":{\"formatter\":{\"id\":\"3820\",\"type\":\"BasicTickFormatter\"},\"ticker\":{\"id\":\"3437\",\"type\":\"BasicTicker\"}},\"id\":\"3436\",\"type\":\"LinearAxis\"},{\"attributes\":{\"text\":\"\"},\"id\":\"3818\",\"type\":\"Title\"}],\"root_ids\":[\"3427\"]},\"title\":\"Bokeh Application\",\"version\":\"1.2.0\"}};\n",
       "  var render_items = [{\"docid\":\"f49c4dbc-3631-4f34-b375-2df5c3ff08a8\",\"roots\":{\"3427\":\"91ce38c8-3646-4a86-8774-c333f3f4da88\"}}];\n",
       "  root.Bokeh.embed.embed_items_notebook(docs_json, render_items);\n",
       "\n",
       "  }\n",
       "  if (root.Bokeh !== undefined) {\n",
       "    embed_document(root);\n",
       "  } else {\n",
       "    var attempts = 0;\n",
       "    var timer = setInterval(function(root) {\n",
       "      if (root.Bokeh !== undefined) {\n",
       "        embed_document(root);\n",
       "        clearInterval(timer);\n",
       "      }\n",
       "      attempts++;\n",
       "      if (attempts > 100) {\n",
       "        console.log(\"Bokeh: ERROR: Unable to run BokehJS code because BokehJS library is missing\");\n",
       "        clearInterval(timer);\n",
       "      }\n",
       "    }, 10, root)\n",
       "  }\n",
       "})(window);"
      ],
      "application/vnd.bokehjs_exec.v0+json": ""
     },
     "metadata": {
      "application/vnd.bokehjs_exec.v0+json": {
       "id": "3427"
      }
     },
     "output_type": "display_data"
    },
    {
     "data": {
      "text/html": [
       "\n",
       "\n",
       "\n",
       "\n",
       "\n",
       "\n",
       "  <div class=\"bk-root\" id=\"cb0746d8-fc8e-4b49-ba93-8937e2906c4f\" data-root-id=\"3464\"></div>\n"
      ]
     },
     "metadata": {},
     "output_type": "display_data"
    },
    {
     "data": {
      "application/javascript": [
       "(function(root) {\n",
       "  function embed_document(root) {\n",
       "    \n",
       "  var docs_json = {\"03857d20-b3d5-419d-be36-a5400cb5cd8b\":{\"roots\":{\"references\":[{\"attributes\":{\"below\":[{\"id\":\"3473\",\"type\":\"LinearAxis\"}],\"center\":[{\"id\":\"3477\",\"type\":\"Grid\"},{\"id\":\"3482\",\"type\":\"Grid\"}],\"left\":[{\"id\":\"3478\",\"type\":\"LinearAxis\"}],\"renderers\":[{\"id\":\"3499\",\"type\":\"GlyphRenderer\"}],\"title\":{\"id\":\"4020\",\"type\":\"Title\"},\"toolbar\":{\"id\":\"3489\",\"type\":\"Toolbar\"},\"x_range\":{\"id\":\"3465\",\"type\":\"DataRange1d\"},\"x_scale\":{\"id\":\"3469\",\"type\":\"LinearScale\"},\"y_range\":{\"id\":\"3467\",\"type\":\"DataRange1d\"},\"y_scale\":{\"id\":\"3471\",\"type\":\"LinearScale\"}},\"id\":\"3464\",\"subtype\":\"Figure\",\"type\":\"Plot\"},{\"attributes\":{\"formatter\":{\"id\":\"4024\",\"type\":\"BasicTickFormatter\"},\"ticker\":{\"id\":\"3479\",\"type\":\"BasicTicker\"}},\"id\":\"3478\",\"type\":\"LinearAxis\"},{\"attributes\":{},\"id\":\"3479\",\"type\":\"BasicTicker\"},{\"attributes\":{},\"id\":\"4024\",\"type\":\"BasicTickFormatter\"},{\"attributes\":{},\"id\":\"4022\",\"type\":\"BasicTickFormatter\"},{\"attributes\":{\"dimension\":1,\"ticker\":{\"id\":\"3479\",\"type\":\"BasicTicker\"}},\"id\":\"3482\",\"type\":\"Grid\"},{\"attributes\":{\"bottom_units\":\"screen\",\"fill_alpha\":{\"value\":0.5},\"fill_color\":{\"value\":\"lightgrey\"},\"left_units\":\"screen\",\"level\":\"overlay\",\"line_alpha\":{\"value\":1.0},\"line_color\":{\"value\":\"black\"},\"line_dash\":[4,4],\"line_width\":{\"value\":2},\"render_mode\":\"css\",\"right_units\":\"screen\",\"top_units\":\"screen\"},\"id\":\"4025\",\"type\":\"BoxAnnotation\"},{\"attributes\":{\"fill_alpha\":{\"value\":0.1},\"fill_color\":{\"value\":\"#1f77b4\"},\"line_alpha\":{\"value\":0.1},\"line_color\":{\"value\":\"#1f77b4\"},\"x\":{\"field\":\"x\"},\"y\":{\"field\":\"y\"}},\"id\":\"3498\",\"type\":\"Circle\"},{\"attributes\":{\"fill_color\":{\"value\":\"#1f77b4\"},\"line_color\":{\"value\":\"#1f77b4\"},\"x\":{\"field\":\"x\"},\"y\":{\"field\":\"y\"}},\"id\":\"3497\",\"type\":\"Circle\"},{\"attributes\":{},\"id\":\"3483\",\"type\":\"PanTool\"},{\"attributes\":{},\"id\":\"3484\",\"type\":\"WheelZoomTool\"},{\"attributes\":{\"text\":\"\"},\"id\":\"4020\",\"type\":\"Title\"},{\"attributes\":{\"overlay\":{\"id\":\"4025\",\"type\":\"BoxAnnotation\"}},\"id\":\"3485\",\"type\":\"BoxZoomTool\"},{\"attributes\":{},\"id\":\"3486\",\"type\":\"SaveTool\"},{\"attributes\":{},\"id\":\"3487\",\"type\":\"ResetTool\"},{\"attributes\":{\"callback\":null,\"data\":{\"x\":{\"__ndarray__\":\"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\",\"dtype\":\"float64\",\"shape\":[1261]},\"y\":{\"__ndarray__\":\"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\",\"dtype\":\"float64\",\"shape\":[1261]}},\"selected\":{\"id\":\"4027\",\"type\":\"Selection\"},\"selection_policy\":{\"id\":\"4026\",\"type\":\"UnionRenderers\"}},\"id\":\"3496\",\"type\":\"ColumnDataSource\"},{\"attributes\":{},\"id\":\"3488\",\"type\":\"HelpTool\"},{\"attributes\":{\"active_drag\":\"auto\",\"active_inspect\":\"auto\",\"active_multi\":null,\"active_scroll\":\"auto\",\"active_tap\":\"auto\",\"tools\":[{\"id\":\"3483\",\"type\":\"PanTool\"},{\"id\":\"3484\",\"type\":\"WheelZoomTool\"},{\"id\":\"3485\",\"type\":\"BoxZoomTool\"},{\"id\":\"3486\",\"type\":\"SaveTool\"},{\"id\":\"3487\",\"type\":\"ResetTool\"},{\"id\":\"3488\",\"type\":\"HelpTool\"}]},\"id\":\"3489\",\"type\":\"Toolbar\"},{\"attributes\":{\"callback\":null},\"id\":\"3465\",\"type\":\"DataRange1d\"},{\"attributes\":{\"data_source\":{\"id\":\"3496\",\"type\":\"ColumnDataSource\"},\"glyph\":{\"id\":\"3497\",\"type\":\"Circle\"},\"hover_glyph\":null,\"muted_glyph\":null,\"nonselection_glyph\":{\"id\":\"3498\",\"type\":\"Circle\"},\"selection_glyph\":null,\"view\":{\"id\":\"3500\",\"type\":\"CDSView\"}},\"id\":\"3499\",\"type\":\"GlyphRenderer\"},{\"attributes\":{\"callback\":null},\"id\":\"3467\",\"type\":\"DataRange1d\"},{\"attributes\":{\"source\":{\"id\":\"3496\",\"type\":\"ColumnDataSource\"}},\"id\":\"3500\",\"type\":\"CDSView\"},{\"attributes\":{},\"id\":\"3469\",\"type\":\"LinearScale\"},{\"attributes\":{},\"id\":\"4027\",\"type\":\"Selection\"},{\"attributes\":{\"formatter\":{\"id\":\"4022\",\"type\":\"BasicTickFormatter\"},\"ticker\":{\"id\":\"3474\",\"type\":\"BasicTicker\"}},\"id\":\"3473\",\"type\":\"LinearAxis\"},{\"attributes\":{},\"id\":\"3471\",\"type\":\"LinearScale\"},{\"attributes\":{},\"id\":\"3474\",\"type\":\"BasicTicker\"},{\"attributes\":{},\"id\":\"4026\",\"type\":\"UnionRenderers\"},{\"attributes\":{\"ticker\":{\"id\":\"3474\",\"type\":\"BasicTicker\"}},\"id\":\"3477\",\"type\":\"Grid\"}],\"root_ids\":[\"3464\"]},\"title\":\"Bokeh Application\",\"version\":\"1.2.0\"}};\n",
       "  var render_items = [{\"docid\":\"03857d20-b3d5-419d-be36-a5400cb5cd8b\",\"roots\":{\"3464\":\"cb0746d8-fc8e-4b49-ba93-8937e2906c4f\"}}];\n",
       "  root.Bokeh.embed.embed_items_notebook(docs_json, render_items);\n",
       "\n",
       "  }\n",
       "  if (root.Bokeh !== undefined) {\n",
       "    embed_document(root);\n",
       "  } else {\n",
       "    var attempts = 0;\n",
       "    var timer = setInterval(function(root) {\n",
       "      if (root.Bokeh !== undefined) {\n",
       "        embed_document(root);\n",
       "        clearInterval(timer);\n",
       "      }\n",
       "      attempts++;\n",
       "      if (attempts > 100) {\n",
       "        console.log(\"Bokeh: ERROR: Unable to run BokehJS code because BokehJS library is missing\");\n",
       "        clearInterval(timer);\n",
       "      }\n",
       "    }, 10, root)\n",
       "  }\n",
       "})(window);"
      ],
      "application/vnd.bokehjs_exec.v0+json": ""
     },
     "metadata": {
      "application/vnd.bokehjs_exec.v0+json": {
       "id": "3464"
      }
     },
     "output_type": "display_data"
    }
   ],
   "source": [
    "show(xy)\n",
    "show(xz)\n",
    "show(yz)"
   ]
  },
  {
   "cell_type": "code",
   "execution_count": null,
   "metadata": {},
   "outputs": [],
   "source": []
  }
 ],
 "metadata": {
  "kernelspec": {
   "display_name": "Python 3",
   "language": "python",
   "name": "python3"
  },
  "language_info": {
   "codemirror_mode": {
    "name": "ipython",
    "version": 3
   },
   "file_extension": ".py",
   "mimetype": "text/x-python",
   "name": "python",
   "nbconvert_exporter": "python",
   "pygments_lexer": "ipython3",
   "version": "3.7.3"
  }
 },
 "nbformat": 4,
 "nbformat_minor": 2
}
